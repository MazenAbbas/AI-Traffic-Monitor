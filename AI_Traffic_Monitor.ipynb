{
  "nbformat": 4,
  "nbformat_minor": 0,
  "metadata": {
    "colab": {
      "provenance": []
    },
    "kernelspec": {
      "name": "python3",
      "display_name": "Python 3"
    },
    "language_info": {
      "name": "python"
    }
  },
  "cells": [
    {
      "cell_type": "code",
      "execution_count": 1,
      "metadata": {
        "colab": {
          "base_uri": "https://localhost:8080/"
        },
        "collapsed": true,
        "id": "ZrkVaq34Qpmg",
        "outputId": "54d7e373-6eb6-4ab2-b8b5-d14f0f932fb7"
      },
      "outputs": [
        {
          "output_type": "stream",
          "name": "stdout",
          "text": [
            "Requirement already satisfied: opencv-python in /usr/local/lib/python3.12/dist-packages (4.12.0.88)\n",
            "Requirement already satisfied: numpy in /usr/local/lib/python3.12/dist-packages (2.0.2)\n",
            "Requirement already satisfied: tensorflow in /usr/local/lib/python3.12/dist-packages (2.19.0)\n",
            "Requirement already satisfied: absl-py>=1.0.0 in /usr/local/lib/python3.12/dist-packages (from tensorflow) (1.4.0)\n",
            "Requirement already satisfied: astunparse>=1.6.0 in /usr/local/lib/python3.12/dist-packages (from tensorflow) (1.6.3)\n",
            "Requirement already satisfied: flatbuffers>=24.3.25 in /usr/local/lib/python3.12/dist-packages (from tensorflow) (25.2.10)\n",
            "Requirement already satisfied: gast!=0.5.0,!=0.5.1,!=0.5.2,>=0.2.1 in /usr/local/lib/python3.12/dist-packages (from tensorflow) (0.6.0)\n",
            "Requirement already satisfied: google-pasta>=0.1.1 in /usr/local/lib/python3.12/dist-packages (from tensorflow) (0.2.0)\n",
            "Requirement already satisfied: libclang>=13.0.0 in /usr/local/lib/python3.12/dist-packages (from tensorflow) (18.1.1)\n",
            "Requirement already satisfied: opt-einsum>=2.3.2 in /usr/local/lib/python3.12/dist-packages (from tensorflow) (3.4.0)\n",
            "Requirement already satisfied: packaging in /usr/local/lib/python3.12/dist-packages (from tensorflow) (25.0)\n",
            "Requirement already satisfied: protobuf!=4.21.0,!=4.21.1,!=4.21.2,!=4.21.3,!=4.21.4,!=4.21.5,<6.0.0dev,>=3.20.3 in /usr/local/lib/python3.12/dist-packages (from tensorflow) (5.29.5)\n",
            "Requirement already satisfied: requests<3,>=2.21.0 in /usr/local/lib/python3.12/dist-packages (from tensorflow) (2.32.4)\n",
            "Requirement already satisfied: setuptools in /usr/local/lib/python3.12/dist-packages (from tensorflow) (75.2.0)\n",
            "Requirement already satisfied: six>=1.12.0 in /usr/local/lib/python3.12/dist-packages (from tensorflow) (1.17.0)\n",
            "Requirement already satisfied: termcolor>=1.1.0 in /usr/local/lib/python3.12/dist-packages (from tensorflow) (3.1.0)\n",
            "Requirement already satisfied: typing-extensions>=3.6.6 in /usr/local/lib/python3.12/dist-packages (from tensorflow) (4.15.0)\n",
            "Requirement already satisfied: wrapt>=1.11.0 in /usr/local/lib/python3.12/dist-packages (from tensorflow) (1.17.3)\n",
            "Requirement already satisfied: grpcio<2.0,>=1.24.3 in /usr/local/lib/python3.12/dist-packages (from tensorflow) (1.75.0)\n",
            "Requirement already satisfied: tensorboard~=2.19.0 in /usr/local/lib/python3.12/dist-packages (from tensorflow) (2.19.0)\n",
            "Requirement already satisfied: keras>=3.5.0 in /usr/local/lib/python3.12/dist-packages (from tensorflow) (3.10.0)\n",
            "Requirement already satisfied: h5py>=3.11.0 in /usr/local/lib/python3.12/dist-packages (from tensorflow) (3.14.0)\n",
            "Requirement already satisfied: ml-dtypes<1.0.0,>=0.5.1 in /usr/local/lib/python3.12/dist-packages (from tensorflow) (0.5.3)\n",
            "Requirement already satisfied: wheel<1.0,>=0.23.0 in /usr/local/lib/python3.12/dist-packages (from astunparse>=1.6.0->tensorflow) (0.45.1)\n",
            "Requirement already satisfied: rich in /usr/local/lib/python3.12/dist-packages (from keras>=3.5.0->tensorflow) (13.9.4)\n",
            "Requirement already satisfied: namex in /usr/local/lib/python3.12/dist-packages (from keras>=3.5.0->tensorflow) (0.1.0)\n",
            "Requirement already satisfied: optree in /usr/local/lib/python3.12/dist-packages (from keras>=3.5.0->tensorflow) (0.17.0)\n",
            "Requirement already satisfied: charset_normalizer<4,>=2 in /usr/local/lib/python3.12/dist-packages (from requests<3,>=2.21.0->tensorflow) (3.4.3)\n",
            "Requirement already satisfied: idna<4,>=2.5 in /usr/local/lib/python3.12/dist-packages (from requests<3,>=2.21.0->tensorflow) (3.10)\n",
            "Requirement already satisfied: urllib3<3,>=1.21.1 in /usr/local/lib/python3.12/dist-packages (from requests<3,>=2.21.0->tensorflow) (2.5.0)\n",
            "Requirement already satisfied: certifi>=2017.4.17 in /usr/local/lib/python3.12/dist-packages (from requests<3,>=2.21.0->tensorflow) (2025.8.3)\n",
            "Requirement already satisfied: markdown>=2.6.8 in /usr/local/lib/python3.12/dist-packages (from tensorboard~=2.19.0->tensorflow) (3.9)\n",
            "Requirement already satisfied: tensorboard-data-server<0.8.0,>=0.7.0 in /usr/local/lib/python3.12/dist-packages (from tensorboard~=2.19.0->tensorflow) (0.7.2)\n",
            "Requirement already satisfied: werkzeug>=1.0.1 in /usr/local/lib/python3.12/dist-packages (from tensorboard~=2.19.0->tensorflow) (3.1.3)\n",
            "Requirement already satisfied: MarkupSafe>=2.1.1 in /usr/local/lib/python3.12/dist-packages (from werkzeug>=1.0.1->tensorboard~=2.19.0->tensorflow) (3.0.2)\n",
            "Requirement already satisfied: markdown-it-py>=2.2.0 in /usr/local/lib/python3.12/dist-packages (from rich->keras>=3.5.0->tensorflow) (4.0.0)\n",
            "Requirement already satisfied: pygments<3.0.0,>=2.13.0 in /usr/local/lib/python3.12/dist-packages (from rich->keras>=3.5.0->tensorflow) (2.19.2)\n",
            "Requirement already satisfied: mdurl~=0.1 in /usr/local/lib/python3.12/dist-packages (from markdown-it-py>=2.2.0->rich->keras>=3.5.0->tensorflow) (0.1.2)\n"
          ]
        }
      ],
      "source": [
        "!pip install opencv-python numpy tensorflow"
      ]
    },
    {
      "cell_type": "code",
      "source": [
        "!wget -O big_buck_bunny.mp4 \"http://commondatastorage.googleapis.com/gtv-videos-bucket/sample/BigBuckBunny.mp4\""
      ],
      "metadata": {
        "colab": {
          "base_uri": "https://localhost:8080/"
        },
        "collapsed": true,
        "id": "wm85_fpsQ7ZW",
        "outputId": "faf94000-748e-428e-9751-83e5422b4dba"
      },
      "execution_count": 6,
      "outputs": [
        {
          "output_type": "stream",
          "name": "stdout",
          "text": [
            "--2025-10-01 10:16:08--  http://commondatastorage.googleapis.com/gtv-videos-bucket/sample/BigBuckBunny.mp4\n",
            "Resolving commondatastorage.googleapis.com (commondatastorage.googleapis.com)... 192.178.163.207, 173.194.202.207, 173.194.203.207, ...\n",
            "Connecting to commondatastorage.googleapis.com (commondatastorage.googleapis.com)|192.178.163.207|:80... connected.\n",
            "HTTP request sent, awaiting response... 200 OK\n",
            "Length: 158008374 (151M) [video/mp4]\n",
            "Saving to: ‘big_buck_bunny.mp4’\n",
            "\n",
            "big_buck_bunny.mp4  100%[===================>] 150.69M   299MB/s    in 0.5s    \n",
            "\n",
            "2025-10-01 10:16:09 (299 MB/s) - ‘big_buck_bunny.mp4’ saved [158008374/158008374]\n",
            "\n"
          ]
        }
      ]
    },
    {
      "cell_type": "code",
      "source": [
        "import cv2\n",
        "import matplotlib.pyplot as plt\n",
        "\n",
        "# Open the video file\n",
        "video = cv2.VideoCapture('big_buck_bunny.mp4')\n",
        "\n",
        "# Check if the video opened successfully\n",
        "if not video.isOpened():\n",
        "    print(\"Error: Could not open video file.\")\n",
        "else:\n",
        "    # Read the first frame\n",
        "    ret, frame = video.read()\n",
        "\n",
        "    if ret:\n",
        "        # Display the first frame\n",
        "        # OpenCV reads in BGR format, Matplotlib expects RGB\n",
        "        frame = cv2.cvtColor(frame, cv2.COLOR_BGR2RGB)\n",
        "        plt.imshow(frame)\n",
        "        plt.title(\"First Frame of the Video\")\n",
        "        plt.axis('off')\n",
        "        plt.show()\n",
        "    else:\n",
        "        print(\"Error: Could not read the first frame.\")\n",
        "\n",
        "# Release the video file\n",
        "video.release()"
      ],
      "metadata": {
        "colab": {
          "base_uri": "https://localhost:8080/",
          "height": 338
        },
        "id": "8nQMojZJRDuG",
        "outputId": "f6118787-8584-46b1-a14d-747534cf708b"
      },
      "execution_count": 8,
      "outputs": [
        {
          "output_type": "display_data",
          "data": {
            "text/plain": [
              "<Figure size 640x480 with 1 Axes>"
            ],
            "image/png": "[encoded data removed]"
          },
          "metadata": {}
        }
      ]
    },
    {
      "cell_type": "code",
      "source": [
        "import cv2\n",
        "\n",
        "# Open the video file\n",
        "video = cv2.VideoCapture('big_buck_bunny.mp4')\n",
        "\n",
        "# Check if the video opened successfully\n",
        "if not video.isOpened():\n",
        "    print(\"Error: Could not open video file.\")\n",
        "else:\n",
        "    # Get the video's properties (width, height, FPS)\n",
        "    frame_width = int(video.get(3))\n",
        "    frame_height = int(video.get(4))\n",
        "    fps = int(video.get(cv2.CAP_PROP_FPS))\n",
        "\n",
        "    # Process each frame of the video\n",
        "    while True:\n",
        "        # Read a frame\n",
        "        ret, frame = video.read()\n",
        "\n",
        "        # If the frame was not read successfully, we have reached the end of the video\n",
        "        if not ret:\n",
        "            break\n",
        "\n",
        "        # Convert the frame to grayscale\n",
        "        gray_frame = cv2.cvtColor(frame, cv2.COLOR_BGR2GRAY)\n",
        "\n",
        "        # You can add more processing here (e.g., object detection)\n",
        "        # For now, we'll just print a message to show that it's working\n",
        "        # print(\"Processing a frame...\")\n",
        "\n",
        "# Release the video file\n",
        "video.release()\n",
        "print(\"Video processing finished.\")"
      ],
      "metadata": {
        "colab": {
          "base_uri": "https://localhost:8080/"
        },
        "id": "K3eYRAyDR1Hr",
        "outputId": "5cf5b837-8a0e-40d4-a828-7fc3a6b431e4"
      },
      "execution_count": 9,
      "outputs": [
        {
          "output_type": "stream",
          "name": "stdout",
          "text": [
            "Video processing finished.\n"
          ]
        }
      ]
    },
    {
      "cell_type": "code",
      "source": [
        "import cv2\n",
        "import tensorflow as tf\n",
        "import tensorflow_hub as hub\n",
        "import numpy as np\n",
        "\n",
        "# Load a pre-trained object detection model from TensorFlow Hub\n",
        "# This might take a while to download the first time\n",
        "model = hub.load(\"https://tfhub.dev/tensorflow/ssd_mobilenet_v2/2\")\n",
        "\n",
        "# Define the labels for the objects the model can detect\n",
        "labels = {1: 'person', 2: 'bicycle', 3: 'car', 4: 'motorcycle', 5: 'airplane', 6: 'bus', 7: 'train', 8: 'truck'}\n",
        "# Note: The model can detect many other things, but we'll focus on these for clarity\n",
        "\n",
        "# Open the video file\n",
        "video = cv2.VideoCapture('big_buck_bunny.mp4')\n",
        "if not video.isOpened():\n",
        "    print(\"Error: Could not open video file.\")\n",
        "else:\n",
        "    # Get video properties\n",
        "    frame_width = int(video.get(3))\n",
        "    frame_height = int(video.get(4))\n",
        "    fps = int(video.get(cv2.CAP_PROP_FPS))\n",
        "\n",
        "    # Define the output video writer\n",
        "    # The output video will have the same properties as the input\n",
        "    out = cv2.VideoWriter('output_video.mp4', cv2.VideoWriter_fourcc(*'mp4v'), fps, (frame_width, frame_height))\n",
        "\n",
        "    print(\"Processing video...\")\n",
        "    while True:\n",
        "        # Read a frame from the video\n",
        "        ret, frame = video.read()\n",
        "        if not ret:\n",
        "            break\n",
        "\n",
        "        # Convert the frame to a TensorFlow tensor\n",
        "        rgb_tensor = tf.convert_to_tensor(frame, dtype=tf.uint8)\n",
        "        rgb_tensor = tf.expand_dims(rgb_tensor, 0)\n",
        "\n",
        "        # Run the object detection model on the frame\n",
        "        detector_output = model(rgb_tensor)\n",
        "\n",
        "        # Process the model's output\n",
        "        detection_boxes = detector_output['detection_boxes'][0].numpy()\n",
        "        detection_classes = detector_output['detection_classes'][0].numpy().astype(np.int32)\n",
        "        detection_scores = detector_output['detection_scores'][0].numpy()\n",
        "\n",
        "        # Loop through the detected objects\n",
        "        for i in range(len(detection_scores)):\n",
        "            score = detection_scores[i]\n",
        "            if score > 0.5:  # Filter for detections with a confidence score > 50%\n",
        "                box = detection_boxes[i]\n",
        "                class_id = detection_classes[i]\n",
        "\n",
        "                ymin, xmin, ymax, xmax = box\n",
        "\n",
        "                # Convert normalized coordinates to pixel coordinates\n",
        "                y_min = int(ymin * frame_height)\n",
        "                x_min = int(xmin * frame_width)\n",
        "                y_max = int(ymax * frame_height)\n",
        "                x_max = int(xmax * frame_width)\n",
        "\n",
        "                # Draw a bounding box around the detected object\n",
        "                cv2.rectangle(frame, (x_min, y_min), (x_max, y_max), (0, 255, 0), 2)\n",
        "\n",
        "                # Get the label and score\n",
        "                label = f\"{labels.get(class_id, 'Unknown')}: {score:.2f}\"\n",
        "\n",
        "                # Put the label text on the frame\n",
        "                cv2.putText(frame, label, (x_min, y_min - 10), cv2.FONT_HERSHEY_SIMPLEX, 0.5, (0, 255, 0), 2)\n",
        "\n",
        "        # Write the processed frame to the output video\n",
        "        out.write(frame)\n",
        "\n",
        "    # Release resources\n",
        "    video.release()\n",
        "    out.release()\n",
        "    print(\"Video processing and object detection finished.\")"
      ],
      "metadata": {
        "colab": {
          "base_uri": "https://localhost:8080/"
        },
        "id": "wgP5qbVJSRZ7",
        "outputId": "ba44550f-e0bf-4c9c-cfb2-d7577245d9a6"
      },
      "execution_count": 10,
      "outputs": [
        {
          "output_type": "stream",
          "name": "stdout",
          "text": [
            "Processing video...\n",
            "Video processing and object detection finished.\n"
          ]
        }
      ]
    }
  ]
}